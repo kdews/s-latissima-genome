{
 "cells": [
  {
   "cell_type": "code",
   "execution_count": 27,
   "id": "517a194c-b631-4434-8fff-e4aeede3bfb0",
   "metadata": {},
   "outputs": [],
   "source": [
    "import sys\n",
    "import os\n",
    "import re\n",
    "from ete3 import Tree"
   ]
  },
  {
   "cell_type": "code",
   "execution_count": 28,
   "id": "ae3383a1-02f9-48ed-b3a0-6233043377b9",
   "metadata": {},
   "outputs": [],
   "source": [
    "os.chdir(\"/scratch2/kdeweese/latissima/genome_stats\")"
   ]
  },
  {
   "cell_type": "code",
   "execution_count": 29,
   "id": "15ba98f3-e82f-45f3-8595-37c6efee03cc",
   "metadata": {},
   "outputs": [],
   "source": [
    "tree_file = \"assemblies/brown_algae_newick_tree.txt\"\n",
    "species_file = \"species_nodes.txt\""
   ]
  },
  {
   "cell_type": "code",
   "execution_count": 30,
   "id": "e72ff546-2b61-4339-9f8b-394bebbef9aa",
   "metadata": {},
   "outputs": [],
   "source": [
    "if os.path.exists(tree_file):\n",
    "    tree_name = os.path.basename(tree_file)\n",
    "    tree_name = os.path.splitext(tree_name)\n",
    "else:\n",
    "    sys.exit(\"Error: \" + tree_file + \" not found.\")"
   ]
  },
  {
   "cell_type": "code",
   "execution_count": 36,
   "id": "c320296f-9801-4a62-8523-42e0436b8fd3",
   "metadata": {},
   "outputs": [],
   "source": [
    "if os.path.exists(species_file):\n",
    "        species_list = [line.strip() for line in open(species_file) if not line.startswith(\"#\")]"
   ]
  },
  {
   "cell_type": "code",
   "execution_count": 37,
   "id": "220656ac-df33-485f-9f64-7387b0a90346",
   "metadata": {},
   "outputs": [
    {
     "name": "stdout",
     "output_type": "stream",
     "text": [
      "['Undaria_pinnatifida', 'Macrocystis_pyrifera', 'Saccharina_latissima', 'Saccharina_japonica']\n"
     ]
    }
   ],
   "source": [
    "print species_list"
   ]
  },
  {
   "cell_type": "code",
   "execution_count": 33,
   "id": "b5af299b-6a62-4ff7-a6d7-ecc7887f8087",
   "metadata": {},
   "outputs": [],
   "source": [
    "# print [re.sub(\"\\. \", \"_\", x) for x in species_list]"
   ]
  },
  {
   "cell_type": "code",
   "execution_count": null,
   "id": "ee70dc5a-1fb9-4672-80ac-ec6a108adc5d",
   "metadata": {},
   "outputs": [],
   "source": []
  }
 ],
 "metadata": {
  "kernelspec": {
   "display_name": "ETE3 env",
   "language": "python",
   "name": "ete3_env"
  },
  "language_info": {
   "codemirror_mode": {
    "name": "ipython",
    "version": 2
   },
   "file_extension": ".py",
   "mimetype": "text/x-python",
   "name": "python",
   "nbconvert_exporter": "python",
   "pygments_lexer": "ipython2",
   "version": "2.7.15"
  }
 },
 "nbformat": 4,
 "nbformat_minor": 5
}
