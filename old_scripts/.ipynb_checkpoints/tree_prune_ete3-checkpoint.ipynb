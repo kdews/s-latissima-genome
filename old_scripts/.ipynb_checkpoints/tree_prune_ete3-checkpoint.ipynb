{
 "cells": [
  {
   "cell_type": "markdown",
   "id": "3f0f630e-41b6-498c-b543-bc9c19addab3",
   "metadata": {},
   "source": [
    "Requires ETEv3+ (http://etetoolkit.org/)."
   ]
  },
  {
   "cell_type": "code",
   "execution_count": 1,
   "id": "517a194c-b631-4434-8fff-e4aeede3bfb0",
   "metadata": {},
   "outputs": [],
   "source": [
    "import sys\n",
    "import os\n",
    "import re\n",
    "from ete3 import Tree"
   ]
  },
  {
   "cell_type": "code",
   "execution_count": 2,
   "id": "e45f47ec-8554-4bfd-808c-470afb228d9b",
   "metadata": {},
   "outputs": [],
   "source": [
    "os.chdir(\"/scratch2/kdeweese/latissima/genome_stats\")"
   ]
  },
  {
   "cell_type": "code",
   "execution_count": 3,
   "id": "15ba98f3-e82f-45f3-8595-37c6efee03cc",
   "metadata": {},
   "outputs": [],
   "source": [
    "seq_file = \"s-latissima-genome/s_lat_alignment.txt\""
   ]
  },
  {
   "cell_type": "code",
   "execution_count": 4,
   "id": "e72ff546-2b61-4339-9f8b-394bebbef9aa",
   "metadata": {},
   "outputs": [],
   "source": [
    "if os.path.exists(seq_file):\n",
    "    seq_name = os.path.basename(seq_file)\n",
    "    seq_name = os.path.splitext(seq_name)\n",
    "else:\n",
    "    sys.exit(\"Error: \" + seq_file + \" not found.\")"
   ]
  },
  {
   "cell_type": "code",
   "execution_count": 5,
   "id": "c320296f-9801-4a62-8523-42e0436b8fd3",
   "metadata": {},
   "outputs": [],
   "source": [
    "species_list = [line.strip().split(\"\\t\")[0] for line in open(seq_file) if line.strip() and not line.startswith(\"(\")]"
   ]
  },
  {
   "cell_type": "code",
   "execution_count": 6,
   "id": "dba19aa8-ba51-4753-a3f8-6afc41ba1e86",
   "metadata": {},
   "outputs": [
    {
     "name": "stdout",
     "output_type": "stream",
     "text": [
      "\n",
      "               /-Agarum_clathratum\n",
      "            /-|\n",
      "           |   \\-Thalassiophylum_clathrus\n",
      "         /-|\n",
      "        |  |      /-Neogarum_fimbriatum\n",
      "        |  |   /-|\n",
      "        |   \\-|   \\-Dictyoneurum_californicum\n",
      "        |     |\n",
      "        |      \\-Costaria_costata\n",
      "        |\n",
      "        |                        /-Arthrothamnus_bifidus\n",
      "        |                     /-|\n",
      "        |                    |  |   /-Hedophyllum_nigripes\n",
      "        |                    |   \\-|\n",
      "        |                    |      \\-Hedophyllum_subsessile\n",
      "        |                  /-|\n",
      "        |                 |  |      /-Saccharina_angustata\n",
      "        |                 |  |   /-|\n",
      "        |                 |  |  |  |   /-Saccharina_japonica\n",
      "        |                 |  |  |   \\-|\n",
      "        |               /-|   \\-|      \\-Saccharina_longissima\n",
      "        |              |  |     |\n",
      "        |              |  |     |   /-Saccharina_coriaceae\n",
      "        |              |  |      \\-|\n",
      "        |              |  |         \\-Saccharina_latissima\n",
      "      /-|              |  |\n",
      "     |  |            /-|   \\-Kjellmaniella_crassifolia\n",
      "     |  |           |  |\n",
      "     |  |           |  |         /-Macrocystis_pyrifera\n",
      "     |  |           |  |      /-|\n",
      "     |  |           |  |     |   \\-Pelagophycus_porra\n",
      "     |  |           |  |   /-|\n",
      "     |  |         /-|  |  |  |   /-Nereocystis_luetkeana\n",
      "     |  |        |  |   \\-|   \\-|\n",
      "     |  |        |  |     |      \\-Postelsia_palmaeformis\n",
      "     |  |        |  |     |\n",
      "     |  |      /-|  |      \\-Pseudolessonia_laminarioides\n",
      "     |  |     |  |  |\n",
      "     |  |     |  |   \\-Cymathaere_triplicata\n",
      "     |  |     |  |\n",
      "     |  |     |  |   /-Ecklonia_arborea\n",
      "     |  |   /-|   \\-|\n",
      "     |  |  |  |     |   /-Ecklonia_radiata\n",
      "     |  |  |  |      \\-|\n",
      "     |  |  |  |         \\-Ecklonia_radicosa\n",
      "     |  |  |  |\n",
      "   /-|  |  |   \\-Egregia_menziesii\n",
      "  |  |   \\-|\n",
      "  |  |     |         /-Laminaria_digitata\n",
      "  |  |     |      /-|\n",
      "  |  |     |   /-|   \\-Laminaria_hyperborea\n",
      "  |  |     |  |  |\n",
      "  |  |     |  |   \\-Laminaria_ephemera\n",
      "  |  |      \\-|\n",
      "  |  |        |      /-Lessonia_nigrescens\n",
      "  |  |        |   /-|\n",
      "  |  |         \\-|   \\-Lessonia_spicata\n",
      "  |  |           |\n",
      "  |  |            \\-Lessonia_variegata\n",
      "  |  |\n",
      "  |  |            /-Alaria_esculenta\n",
      "--|  |         /-|\n",
      "  |  |      /-|   \\-Alaria_marginata\n",
      "  |  |     |  |\n",
      "  |  |   /-|   \\-Undaria_pinnatifida\n",
      "  |  |  |  |\n",
      "  |  |  |  |   /-Lessoniopsis_littoralis\n",
      "  |  |  |   \\-|\n",
      "  |   \\-|     |   /-Pleurophycus_gardneri\n",
      "  |     |      \\-|\n",
      "  |     |         \\-Pterygophora_californica\n",
      "  |     |\n",
      "  |      \\-Aureophycus_aleuticus\n",
      "  |\n",
      "  |      /-Akkesiphycus_lubricus\n",
      "  |   /-|\n",
      "  |  |   \\-Pseudochorda_nagaii\n",
      "   \\-|\n",
      "     |   /-Chorda_asiatica\n",
      "      \\-|\n",
      "         \\-Chorda_filum\n",
      "(((((Agarum_clathratum:11.8931,Thalassiophylum_clathrus:11.8931):3.74722,((Neogarum_fimbriatum:9.25536,Dictyoneurum_californicum:9.25536):3.36094,Costaria_costata:12.6163):3.02403):13.4363,((((((((Arthrothamnus_bifidus:8.15634,(Hedophyllum_nigripes:3.73397,Hedophyllum_subsessile:3.73397):4.42237):1.75526,((Saccharina_angustata:4.08246,(Saccharina_japonica:0.108109,Saccharina_longissima:0.108109):3.97435):3.12765,(Saccharina_coriaceae:1.86564,Saccharina_latissima:1.86564):5.34447):2.70149):2.67476,Kjellmaniella_crassifolia:12.5864):6.13073,(((Macrocystis_pyrifera:5.91121,Pelagophycus_porra:5.91121):6.5797,(Nereocystis_luetkeana:9.85288,Postelsia_palmaeformis:9.85288):2.63803):2.0233,Pseudolessonia_laminarioides:14.5142):4.20288):3.40805,Cymathaere_triplicata:22.1251):1.44571,(Ecklonia_arborea:8.09061,(Ecklonia_radiata:5.09465,Ecklonia_radicosa:5.09465):2.99596):15.4802):1.42678,Egregia_menziesii:24.9976):1.39239,(((Laminaria_digitata:2.73533,Laminaria_hyperborea:2.73533):13.3213,Laminaria_ephemera:16.0567):7.01998,((Lessonia_nigrescens:1.76335,Lessonia_spicata:1.76335):5.67301,Lessonia_variegata:7.43636):15.6403):3.31337):2.68657):2.34907,((((Alaria_esculenta:5.14238,Alaria_marginata:5.14238):8.69999,Undaria_pinnatifida:13.8424):2.18033,(Lessoniopsis_littoralis:12.5705,(Pleurophycus_gardneri:11.6575,Pterygophora_californica:11.6575):0.913001):3.45225):9.48099,Aureophycus_aleuticus:25.5037):5.92197):41.8059,((Akkesiphycus_lubricus:32.4774,Pseudochorda_nagaii:32.4774):30.2077,(Chorda_asiatica:15.6098,Chorda_filum:15.6098):47.0753):10.5464);\n"
     ]
    }
   ],
   "source": [
    "t = [line.strip() for line in open(seq_file) if line.startswith(\"(\")][0]\n",
    "t = Tree(t, format=1)\n",
    "s = t\n",
    "print t\n",
    "print t.write(format=1)"
   ]
  },
  {
   "cell_type": "code",
   "execution_count": 7,
   "id": "75acb6ab-1691-459a-89cb-46c65b7b57f2",
   "metadata": {},
   "outputs": [
    {
     "name": "stdout",
     "output_type": "stream",
     "text": [
      "\n",
      "         /-Saccharina_japonica\n",
      "      /-|\n",
      "   /-|   \\-Saccharina_latissima\n",
      "  |  |\n",
      "--|   \\-Macrocystis_pyrifera\n",
      "  |\n",
      "   \\-Undaria_pinnatifida\n",
      "(((Saccharina_japonica:0.108109,Saccharina_latissima:1.86564):2.70149,Macrocystis_pyrifera:5.91121):3.40805,Undaria_pinnatifida:13.8424);\n"
     ]
    }
   ],
   "source": [
    "t.prune(species_list, preserve_branch_length=False)\n",
    "print t\n",
    "print t.write(format=1)"
   ]
  },
  {
   "cell_type": "code",
   "execution_count": 8,
   "id": "6965a782-a7e1-428c-abdb-74630b1d7dd1",
   "metadata": {},
   "outputs": [
    {
     "name": "stdout",
     "output_type": "stream",
     "text": [
      "\n",
      "         /-Saccharina_japonica\n",
      "      /-|\n",
      "   /-|   \\-Saccharina_latissima\n",
      "  |  |\n",
      "--|   \\-Macrocystis_pyrifera\n",
      "  |\n",
      "   \\-Undaria_pinnatifida\n",
      "(((Saccharina_japonica:0.108109,Saccharina_latissima:1.86564):2.70149,Macrocystis_pyrifera:5.91121):3.40805,Undaria_pinnatifida:13.8424);\n"
     ]
    }
   ],
   "source": [
    "s.prune(species_list, preserve_branch_length=True)\n",
    "print s\n",
    "print s.write(format=1)"
   ]
  }
 ],
 "metadata": {
  "kernelspec": {
   "display_name": "ETE3 env",
   "language": "python",
   "name": "ete3_env"
  },
  "language_info": {
   "codemirror_mode": {
    "name": "ipython",
    "version": 2
   },
   "file_extension": ".py",
   "mimetype": "text/x-python",
   "name": "python",
   "nbconvert_exporter": "python",
   "pygments_lexer": "ipython2",
   "version": "2.7.15"
  }
 },
 "nbformat": 4,
 "nbformat_minor": 5
}
